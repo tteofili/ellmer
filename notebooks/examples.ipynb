{
 "cells": [
  {
   "cell_type": "code",
   "execution_count": 625,
   "id": "a88fe0ed",
   "metadata": {},
   "outputs": [],
   "source": [
    "# get pair of records with few tokens\n",
    "# ask the LLM for the prediction using prompt 1\n",
    "# ask the LLM for the prediction using prompt 2\n",
    "# check that the prediction is the same\n",
    "# compare saliency explanations\n",
    "# see how much they differ\n",
    "# calculate kendall-tau?\n",
    "# compare counterfactual explanations\n",
    "# see how much they differ\n",
    "# check for their validity manually"
   ]
  },
  {
   "cell_type": "code",
   "execution_count": 691,
   "id": "e051e9cd",
   "metadata": {},
   "outputs": [],
   "source": [
    "import pandas as pd\n",
    "from certa.utils import merge_sources\n",
    "import ellmer.models\n",
    "import ellmer.metrics\n",
    "import matplotlib.pyplot as plt"
   ]
  },
  {
   "cell_type": "code",
   "execution_count": 627,
   "id": "94663a1a",
   "metadata": {},
   "outputs": [],
   "source": [
    "dataset = 'amazon_google'\n",
    "datadir = '/Users/tteofili/dev/cheapER/datasets/' + dataset\n",
    "lsource = pd.read_csv(datadir + '/tableA.csv')\n",
    "rsource = pd.read_csv(datadir + '/tableB.csv')\n",
    "gt = pd.read_csv(datadir + '/train.csv')\n",
    "valid = pd.read_csv(datadir + '/valid.csv')\n",
    "test = pd.read_csv(datadir + '/test.csv')"
   ]
  },
  {
   "cell_type": "code",
   "execution_count": 628,
   "id": "f0cda393",
   "metadata": {},
   "outputs": [],
   "source": [
    "model_type=\"azure_openai\"\n",
    "model_name=\"gpt-3.5-turbo\"\n",
    "deployment_name=\"gpt-35-turbo\"\n",
    "explanation_granularity=\"token\"\n",
    "temperature=0"
   ]
  },
  {
   "cell_type": "code",
   "execution_count": null,
   "id": "49aa27fe",
   "metadata": {},
   "outputs": [],
   "source": [
    "test_df = merge_sources(test, 'ltable_', 'rtable_', lsource, rsource, ['label'], [])"
   ]
  },
  {
   "cell_type": "code",
   "execution_count": 690,
   "id": "523ca870",
   "metadata": {},
   "outputs": [
    {
     "data": {
      "text/html": [
       "<div>\n",
       "<style scoped>\n",
       "    .dataframe tbody tr th:only-of-type {\n",
       "        vertical-align: middle;\n",
       "    }\n",
       "\n",
       "    .dataframe tbody tr th {\n",
       "        vertical-align: top;\n",
       "    }\n",
       "\n",
       "    .dataframe thead th {\n",
       "        text-align: right;\n",
       "    }\n",
       "</style>\n",
       "<table border=\"1\" class=\"dataframe\">\n",
       "  <thead>\n",
       "    <tr style=\"text-align: right;\">\n",
       "      <th></th>\n",
       "      <th>label</th>\n",
       "      <th>ltable_title</th>\n",
       "      <th>ltable_manufacturer</th>\n",
       "      <th>ltable_price</th>\n",
       "      <th>rtable_title</th>\n",
       "      <th>rtable_manufacturer</th>\n",
       "      <th>rtable_price</th>\n",
       "    </tr>\n",
       "  </thead>\n",
       "  <tbody>\n",
       "    <tr>\n",
       "      <th>184</th>\n",
       "      <td>0</td>\n",
       "      <td>quickbooks premier edition 2007 5 user multi-pack</td>\n",
       "      <td>intuit</td>\n",
       "      <td>1499.95</td>\n",
       "      <td>intuit quickbooks premier professional service...</td>\n",
       "      <td>NaN</td>\n",
       "      <td>349.95</td>\n",
       "    </tr>\n",
       "  </tbody>\n",
       "</table>\n",
       "</div>"
      ],
      "text/plain": [
       "    label                                       ltable_title  \\\n",
       "184     0  quickbooks premier edition 2007 5 user multi-pack   \n",
       "\n",
       "    ltable_manufacturer  ltable_price  \\\n",
       "184              intuit       1499.95   \n",
       "\n",
       "                                          rtable_title rtable_manufacturer  \\\n",
       "184  intuit quickbooks premier professional service...                 NaN   \n",
       "\n",
       "     rtable_price  \n",
       "184        349.95  "
      ]
     },
     "execution_count": 690,
     "metadata": {},
     "output_type": "execute_result"
    }
   ],
   "source": [
    "# both good: ag#152,154, 160, 177, 181\n",
    "# pase weird: ag#155\n",
    "# both bad but acceptable: ag#159\n",
    "# pase good, ptse bad: ag#161, 166, 170\n",
    "idx = 184\n",
    "rand_row = test_df.iloc[[idx]]\n",
    "l_id = int(rand_row['ltable_id'])\n",
    "l_tuple = lsource.iloc[l_id]\n",
    "r_id = int(rand_row['rtable_id'])\n",
    "r_tuple = rsource.iloc[r_id]\n",
    "ltuple, rtuple = ellmer.utils.get_tuples(rand_row)\n",
    "rand_row.drop(['ltable_id','rtable_id'], axis=1).head()"
   ]
  },
  {
   "cell_type": "code",
   "execution_count": null,
   "id": "7fe10720",
   "metadata": {},
   "outputs": [],
   "source": [
    "pase = ellmer.models.GenericEllmer(explanation_granularity=explanation_granularity,\n",
    "                                       deployment_name=deployment_name, temperature=temperature,\n",
    "                                       model_name=model_name, model_type=model_type, verbose=False,\n",
    "                                       prompts={\"pase\": \"../ellmer/prompts/constrained10.txt\"})"
   ]
  },
  {
   "cell_type": "code",
   "execution_count": 681,
   "id": "30ed34d1",
   "metadata": {},
   "outputs": [
    {
     "data": {
      "text/plain": [
       "{'prediction': 0,\n",
       " 'saliency': {'quickbooks': 0.2,\n",
       "  'premier': 0.3,\n",
       "  'edition': 0.1,\n",
       "  '2007': 0.4,\n",
       "  '5': 0.0,\n",
       "  'user': 0.0,\n",
       "  'multi-pack': 0.0,\n",
       "  'intuit': 0.5,\n",
       "  'manufacturer': 0.0,\n",
       "  'price': 0.0},\n",
       " 'cf': {'ltable_title': 'quickbooks premier edition 2007 5 user multi-pack',\n",
       "  'ltable_manufacturer': 'intuit',\n",
       "  'ltable_price': '1499.95',\n",
       "  'rtable_title': 'intuit quickbooks premier professional services edition 2007 software win tax & finance software',\n",
       "  'rtable_manufacturer': 'intuit',\n",
       "  'rtable_price': '1499.95'}}"
      ]
     },
     "execution_count": 681,
     "metadata": {},
     "output_type": "execute_result"
    }
   ],
   "source": [
    "pase_answer_dictionary = pase.predict_and_explain(ltuple, rtuple)\n",
    "pase_answer_dictionary"
   ]
  },
  {
   "cell_type": "code",
   "execution_count": 694,
   "id": "6db1ae3e",
   "metadata": {},
   "outputs": [
    {
     "data": {
      "image/png": "[encoded data removed]",
      "text/plain": [
       "<Figure size 640x480 with 1 Axes>"
      ]
     },
     "metadata": {},
     "output_type": "display_data"
    }
   ],
   "source": [
    "plt.bar(*zip(*pase_answer_dictionary['saliency'].items()))\n",
    "plt.xticks(rotation=45)\n",
    "plt.show()"
   ]
  },
  {
   "cell_type": "code",
   "execution_count": 682,
   "id": "e644d9f5",
   "metadata": {},
   "outputs": [
    {
     "data": {
      "text/html": [
       "<div>\n",
       "<style scoped>\n",
       "    .dataframe tbody tr th:only-of-type {\n",
       "        vertical-align: middle;\n",
       "    }\n",
       "\n",
       "    .dataframe tbody tr th {\n",
       "        vertical-align: top;\n",
       "    }\n",
       "\n",
       "    .dataframe thead th {\n",
       "        text-align: right;\n",
       "    }\n",
       "</style>\n",
       "<table border=\"1\" class=\"dataframe\">\n",
       "  <thead>\n",
       "    <tr style=\"text-align: right;\">\n",
       "      <th></th>\n",
       "      <th>ltable_title</th>\n",
       "      <th>ltable_manufacturer</th>\n",
       "      <th>ltable_price</th>\n",
       "      <th>rtable_title</th>\n",
       "      <th>rtable_manufacturer</th>\n",
       "      <th>rtable_price</th>\n",
       "    </tr>\n",
       "  </thead>\n",
       "  <tbody>\n",
       "    <tr>\n",
       "      <th>0</th>\n",
       "      <td>quickbooks premier edition 2007 5 user multi-pack</td>\n",
       "      <td>intuit</td>\n",
       "      <td>1499.95</td>\n",
       "      <td>intuit quickbooks premier professional service...</td>\n",
       "      <td>intuit</td>\n",
       "      <td>1499.95</td>\n",
       "    </tr>\n",
       "  </tbody>\n",
       "</table>\n",
       "</div>"
      ],
      "text/plain": [
       "                                        ltable_title ltable_manufacturer  \\\n",
       "0  quickbooks premier edition 2007 5 user multi-pack              intuit   \n",
       "\n",
       "  ltable_price                                       rtable_title  \\\n",
       "0      1499.95  intuit quickbooks premier professional service...   \n",
       "\n",
       "  rtable_manufacturer rtable_price  \n",
       "0              intuit      1499.95  "
      ]
     },
     "execution_count": 682,
     "metadata": {},
     "output_type": "execute_result"
    }
   ],
   "source": [
    "pase_cf_pair = pd.DataFrame(pd.Series(pase_answer_dictionary['cf'])).T\n",
    "pase_cf_pair"
   ]
  },
  {
   "cell_type": "code",
   "execution_count": 683,
   "id": "106ba5e9",
   "metadata": {},
   "outputs": [
    {
     "data": {
      "text/plain": [
       "1"
      ]
     },
     "execution_count": 683,
     "metadata": {},
     "output_type": "execute_result"
    }
   ],
   "source": [
    "pase_cf_ltuple, pase_cf_rtuple = ellmer.utils.get_tuples(pase_cf_pair)\n",
    "pase_cf_answer_dictionary = pase.predict_and_explain(pase_cf_ltuple, pase_cf_rtuple)\n",
    "pase_cf_answer_dictionary['prediction']"
   ]
  },
  {
   "cell_type": "code",
   "execution_count": null,
   "id": "3093ce4f",
   "metadata": {},
   "outputs": [],
   "source": [
    "ptse = ellmer.models.GenericEllmer(explanation_granularity=explanation_granularity,\n",
    "                                        deployment_name=deployment_name, temperature=temperature,\n",
    "                                        model_name=model_name, model_type=model_type,\n",
    "                                        prompts={\"ptse\": {\"er\": \"../ellmer/prompts/er.txt\",\n",
    "                                                     \"saliency\": \"../ellmer/prompts/er-saliency-lc.txt\",\n",
    "                                                     \"cf\": \"../ellmer/prompts/er-cf-lc.txt\"}})"
   ]
  },
  {
   "cell_type": "code",
   "execution_count": 709,
   "id": "4d0675dd",
   "metadata": {},
   "outputs": [
    {
     "data": {
      "text/plain": [
       "{'prediction': 0,\n",
       " 'why': None,\n",
       " 'saliency': {'quickbooks': 0.2,\n",
       "  'premier': 0.2,\n",
       "  'edition': 0.2,\n",
       "  '2007': 0.2,\n",
       "  'intuit': 0.4,\n",
       "  '5': 0.2,\n",
       "  'user': 0.2,\n",
       "  'multi-pack': 0.2,\n",
       "  'software': 0.2,\n",
       "  'win': 0.2,\n",
       "  'tax': 0.2,\n",
       "  'finance': 0.2,\n",
       "  'nan': 0.4,\n",
       "  '349.95': 0.2,\n",
       "  '1499.95': 0.2},\n",
       " 'cf': {'ltable_title': 'quickbooks premier edition 2007 5 user multi-pack',\n",
       "  'ltable_manufacturer': 'intuit',\n",
       "  'ltable_price': '1499.95',\n",
       "  'rtable_title': 'intuit quickbooks premier professional services edition 2007 software win tax & finance software',\n",
       "  'rtable_manufacturer': 'intuit',\n",
       "  'rtable_price': '1499.95'}}"
      ]
     },
     "execution_count": 709,
     "metadata": {},
     "output_type": "execute_result"
    }
   ],
   "source": [
    "ptse_answer_dictionary = ptse.predict_and_explain(ltuple, rtuple)\n",
    "ptse_answer_dictionary"
   ]
  },
  {
   "cell_type": "code",
   "execution_count": 710,
   "id": "b72538e9",
   "metadata": {},
   "outputs": [
    {
     "data": {
      "image/png": "[encoded data removed]",
      "text/plain": [
       "<Figure size 640x480 with 1 Axes>"
      ]
     },
     "metadata": {},
     "output_type": "display_data"
    }
   ],
   "source": [
    "plt.bar(*zip(*ptse_answer_dictionary['saliency'].items()))\n",
    "plt.xticks(rotation=45)\n",
    "plt.show()"
   ]
  },
  {
   "cell_type": "code",
   "execution_count": 712,
   "id": "c059f512",
   "metadata": {},
   "outputs": [
    {
     "data": {
      "text/html": [
       "<div>\n",
       "<style scoped>\n",
       "    .dataframe tbody tr th:only-of-type {\n",
       "        vertical-align: middle;\n",
       "    }\n",
       "\n",
       "    .dataframe tbody tr th {\n",
       "        vertical-align: top;\n",
       "    }\n",
       "\n",
       "    .dataframe thead th {\n",
       "        text-align: right;\n",
       "    }\n",
       "</style>\n",
       "<table border=\"1\" class=\"dataframe\">\n",
       "  <thead>\n",
       "    <tr style=\"text-align: right;\">\n",
       "      <th></th>\n",
       "      <th>ltable_title</th>\n",
       "      <th>ltable_manufacturer</th>\n",
       "      <th>ltable_price</th>\n",
       "      <th>rtable_title</th>\n",
       "      <th>rtable_manufacturer</th>\n",
       "      <th>rtable_price</th>\n",
       "    </tr>\n",
       "  </thead>\n",
       "  <tbody>\n",
       "    <tr>\n",
       "      <th>0</th>\n",
       "      <td>quickbooks premier edition 2007 5 user multi-pack</td>\n",
       "      <td>intuit</td>\n",
       "      <td>1499.95</td>\n",
       "      <td>intuit quickbooks premier professional service...</td>\n",
       "      <td>intuit</td>\n",
       "      <td>1499.95</td>\n",
       "    </tr>\n",
       "  </tbody>\n",
       "</table>\n",
       "</div>"
      ],
      "text/plain": [
       "                                        ltable_title ltable_manufacturer  \\\n",
       "0  quickbooks premier edition 2007 5 user multi-pack              intuit   \n",
       "\n",
       "  ltable_price                                       rtable_title  \\\n",
       "0      1499.95  intuit quickbooks premier professional service...   \n",
       "\n",
       "  rtable_manufacturer rtable_price  \n",
       "0              intuit      1499.95  "
      ]
     },
     "execution_count": 712,
     "metadata": {},
     "output_type": "execute_result"
    }
   ],
   "source": [
    "ptse_cf_pair = pd.DataFrame(pd.Series(ptse_answer_dictionary['cf'])).T\n",
    "ptse_cf_pair"
   ]
  },
  {
   "cell_type": "code",
   "execution_count": 713,
   "id": "d15f7d4d",
   "metadata": {},
   "outputs": [
    {
     "data": {
      "text/plain": [
       "1"
      ]
     },
     "execution_count": 713,
     "metadata": {},
     "output_type": "execute_result"
    }
   ],
   "source": [
    "ptse_cf_ltuple, ptse_cf_rtuple = ellmer.utils.get_tuples(ptse_cf_pair)\n",
    "ptse_cf_answer_dictionary = ptse.predict_and_explain(ptse_cf_ltuple, ptse_cf_rtuple)\n",
    "ptse_cf_answer_dictionary['prediction']"
   ]
  },
  {
   "cell_type": "code",
   "execution_count": 721,
   "id": "5288f246",
   "metadata": {
    "collapsed": true
   },
   "outputs": [
    {
     "name": "stderr",
     "output_type": "stream",
     "text": [
     ]
    }
   ],
   "source": [
    "ptsew = ellmer.models.GenericEllmer(explanation_granularity=explanation_granularity,\n",
    "                                        deployment_name=deployment_name, temperature=temperature,\n",
    "                                        model_name=model_name, model_type=model_type,\n",
    "                                        prompts={\"ptse\": {\"er\": \"../ellmer/prompts/er.txt\",\n",
    "                                                     \"why\": \"../ellmer/prompts/er-why.txt\",\n",
    "                                                     \"saliency\": \"../ellmer/prompts/er-saliency-lc.txt\",\n",
    "                                                     \"cf\": \"../ellmer/prompts/er-cf-lc.txt\"}})"
   ]
  },
  {
   "cell_type": "code",
   "execution_count": 722,
   "id": "828a6de5",
   "metadata": {},
   "outputs": [
    {
     "data": {
      "text/plain": [
       "{'prediction': 0,\n",
       " 'why': 'The two records do not match because they have different titles, different manufacturers, and different prices. Although both records refer to QuickBooks Premier Edition 2007, they are different versions of the software with different features and prices. Therefore, they are not the same product and should not be considered a match.',\n",
       " 'saliency': {'quickbooks': 1.0,\n",
       "  'premier': 1.0,\n",
       "  'edition': 1.0,\n",
       "  '2007': 1.0,\n",
       "  '5': 0.5,\n",
       "  'user': 0.5,\n",
       "  'multi-pack': 0.5,\n",
       "  'intuit': 1.0,\n",
       "  'professional': 0.5,\n",
       "  'services': 0.5,\n",
       "  'software': 0.5,\n",
       "  'win': 0.5,\n",
       "  'tax': 0.5,\n",
       "  'finance': 0.5,\n",
       "  'nan': 0.5,\n",
       "  '349.95': 0.5,\n",
       "  '1499.95': 0.5},\n",
       " 'cf': {'ltable_title': 'intuit quickbooks premier professional services edition 2007 software win tax & finance software',\n",
       "  'ltable_manufacturer': 'intuit',\n",
       "  'ltable_price': '349.95',\n",
       "  'rtable_title': 'quickbooks premier edition 2007 5 user multi-pack',\n",
       "  'rtable_manufacturer': 'nan',\n",
       "  'rtable_price': '1499.95'}}"
      ]
     },
     "execution_count": 722,
     "metadata": {},
     "output_type": "execute_result"
    }
   ],
   "source": [
    "ptsew_answer_dictionary = ptsew.predict_and_explain(ltuple, rtuple)\n",
    "ptsew_answer_dictionary"
   ]
  },
  {
   "cell_type": "code",
   "execution_count": 723,
   "id": "7230f1ef",
   "metadata": {},
   "outputs": [
    {
     "data": {
      "image/png": "[encoded data removed]",
      "text/plain": [
       "<Figure size 640x480 with 1 Axes>"
      ]
     },
     "metadata": {},
     "output_type": "display_data"
    }
   ],
   "source": [
    "plt.bar(*zip(*ptsew_answer_dictionary['saliency'].items()))\n",
    "plt.xticks(rotation=45)\n",
    "plt.show()"
   ]
  },
  {
   "cell_type": "code",
   "execution_count": 724,
   "id": "d8351e1c",
   "metadata": {},
   "outputs": [
    {
     "data": {
      "text/html": [
       "<div>\n",
       "<style scoped>\n",
       "    .dataframe tbody tr th:only-of-type {\n",
       "        vertical-align: middle;\n",
       "    }\n",
       "\n",
       "    .dataframe tbody tr th {\n",
       "        vertical-align: top;\n",
       "    }\n",
       "\n",
       "    .dataframe thead th {\n",
       "        text-align: right;\n",
       "    }\n",
       "</style>\n",
       "<table border=\"1\" class=\"dataframe\">\n",
       "  <thead>\n",
       "    <tr style=\"text-align: right;\">\n",
       "      <th></th>\n",
       "      <th>ltable_title</th>\n",
       "      <th>ltable_manufacturer</th>\n",
       "      <th>ltable_price</th>\n",
       "      <th>rtable_title</th>\n",
       "      <th>rtable_manufacturer</th>\n",
       "      <th>rtable_price</th>\n",
       "    </tr>\n",
       "  </thead>\n",
       "  <tbody>\n",
       "    <tr>\n",
       "      <th>0</th>\n",
       "      <td>intuit quickbooks premier professional service...</td>\n",
       "      <td>intuit</td>\n",
       "      <td>349.95</td>\n",
       "      <td>quickbooks premier edition 2007 5 user multi-pack</td>\n",
       "      <td>nan</td>\n",
       "      <td>1499.95</td>\n",
       "    </tr>\n",
       "  </tbody>\n",
       "</table>\n",
       "</div>"
      ],
      "text/plain": [
       "                                        ltable_title ltable_manufacturer  \\\n",
       "0  intuit quickbooks premier professional service...              intuit   \n",
       "\n",
       "  ltable_price                                       rtable_title  \\\n",
       "0       349.95  quickbooks premier edition 2007 5 user multi-pack   \n",
       "\n",
       "  rtable_manufacturer rtable_price  \n",
       "0                 nan      1499.95  "
      ]
     },
     "execution_count": 724,
     "metadata": {},
     "output_type": "execute_result"
    }
   ],
   "source": [
    "ptsew_cf_pair = pd.DataFrame(pd.Series(ptsew_answer_dictionary['cf'])).T\n",
    "ptsew_cf_pair"
   ]
  },
  {
   "cell_type": "code",
   "execution_count": 725,
   "id": "5050ecdd",
   "metadata": {},
   "outputs": [
    {
     "data": {
      "text/plain": [
       "0"
      ]
     },
     "execution_count": 725,
     "metadata": {},
     "output_type": "execute_result"
    }
   ],
   "source": [
    "ptsew_cf_ltuple, ptsew_cf_rtuple = ellmer.utils.get_tuples(ptsew_cf_pair)\n",
    "ptsew_cf_answer_dictionary = ptsew.predict_and_explain(ptsew_cf_ltuple, ptsew_cf_rtuple)\n",
    "ptsew_cf_answer_dictionary['prediction']"
   ]
  },
  {
   "cell_type": "code",
   "execution_count": 726,
   "id": "01da9309",
   "metadata": {},
   "outputs": [
    {
     "data": {
      "text/plain": [
       "'The two records do not match because they have different titles and manufacturers. Although both records contain the word \"QuickBooks Premier Edition 2007\", the first record has additional information about being a \"Professional Services Edition\" and having \"Tax & Finance Software\". Additionally, the manufacturers are different, with the first record being from \"Intuit\" and the second record having a missing manufacturer value. Finally, the prices are different, with the first record being priced at $349.95 and the second record being priced at $1499.95.'"
      ]
     },
     "execution_count": 726,
     "metadata": {},
     "output_type": "execute_result"
    }
   ],
   "source": [
    "ptsew_cf_answer_dictionary['why']"
   ]
  }
 ],
 "metadata": {
  "kernelspec": {
   "display_name": "Python 3 (ipykernel)",
   "language": "python",
   "name": "python3"
  },
  "language_info": {
   "codemirror_mode": {
    "name": "ipython",
    "version": 3
   },
   "file_extension": ".py",
   "mimetype": "text/x-python",
   "name": "python",
   "nbconvert_exporter": "python",
   "pygments_lexer": "ipython3",
   "version": "3.11.4"
  }
 },
 "nbformat": 4,
 "nbformat_minor": 5
}
