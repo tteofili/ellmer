{
 "cells": [
  {
   "cell_type": "code",
   "outputs": [],
   "source": [
    "import numpy as np\n",
    "import pandas as pd\n",
    "import json\n",
    "import operator\n",
    "from sklearn.metrics import f1_score\n",
    "from scipy.stats import kendalltau"
   ],
   "metadata": {
    "collapsed": false,
    "ExecuteTime": {
     "end_time": "2024-06-10T20:40:13.664129Z",
     "start_time": "2024-06-10T20:40:13.655698Z"
    }
   },
   "id": "b4e7a54f175fb0be",
   "execution_count": 80
  },
  {
   "cell_type": "code",
   "outputs": [],
   "source": [
    "def sal_consistency(pairs:list, min_k=2, max_k=3):\n",
    "    print(f'consistency over {len(pairs)} pairs')\n",
    "    metrics = []\n",
    "    for k in range(min_k, max_k):\n",
    "        a_kt = 0\n",
    "        a_f1 = 0\n",
    "        for att_sal, token_sal in pairs:\n",
    "            sorted_attributes_dict = sorted(att_sal.items(), key=operator.itemgetter(1), reverse=True)[:k]\n",
    "            sorted_tokens_dict = sorted(token_sal.items(), key=operator.itemgetter(1), reverse=True)\n",
    "            \n",
    "            sorted_att_tokens = [k.split('__')[0] for k, _ in sorted_tokens_dict][:k]\n",
    "            sorted_attributes = [k for k,v in sorted_attributes_dict]\n",
    "            \n",
    "            y_true = sorted_attributes\n",
    "            y_pred = sorted_att_tokens\n",
    "            \n",
    "            kt_curr = kendalltau(y_true, y_pred).statistic\n",
    "            \n",
    "            f1_curr = f1_score(y_true, y_pred, average='macro')\n",
    "            \n",
    "            if kt_curr >= -1 and kt_curr <= 1:\n",
    "                a_kt += kt_curr\n",
    "                \n",
    "            a_f1 += f1_curr\n",
    "        avg_kt = a_kt / len(saliency_pairs)\n",
    "        avg_f1 = a_f1 / len(saliency_pairs)\n",
    "        print(f\"@{k} - kt:{avg_kt}, f1:{avg_f1}\")\n",
    "        metrics.append((avg_kt, avg_f1))\n",
    "    return metrics"
   ],
   "metadata": {
    "collapsed": false,
    "ExecuteTime": {
     "end_time": "2024-06-10T20:46:38.522725Z",
     "start_time": "2024-06-10T20:46:38.515766Z"
    }
   },
   "id": "94563bd54b60bb3c",
   "execution_count": 112
  },
  {
   "cell_type": "code",
   "outputs": [],
   "source": [
    "def normalize_saliency(saliency:dict):\n",
    "    new_dict = {}\n",
    "    for k, v in saliency.items():\n",
    "        if type(v) == list:\n",
    "            new_dict[k] = v[0]\n",
    "    if new_dict != {}:\n",
    "        return new_dict\n",
    "    else:\n",
    "        return saliency"
   ],
   "metadata": {
    "collapsed": false,
    "ExecuteTime": {
     "end_time": "2024-06-10T20:43:34.147798Z",
     "start_time": "2024-06-10T20:43:34.143601Z"
    }
   },
   "id": "c8c9477bee20e948",
   "execution_count": 96
  },
  {
   "cell_type": "code",
   "outputs": [],
   "source": [
    "def file_to_saliencies(data_file): \n",
    "    with open(data_file) as f:\n",
    "        data = json.load(f)\n",
    "    return [(s['id'], normalize_saliency(s['saliency'])) for s in data['data']]\n"
   ],
   "metadata": {
    "collapsed": false,
    "ExecuteTime": {
     "end_time": "2024-06-10T20:43:35.920408Z",
     "start_time": "2024-06-10T20:43:35.918076Z"
    }
   },
   "id": "70bba3fd615192ad",
   "execution_count": 97
  },
  {
   "cell_type": "code",
   "outputs": [
    {
     "data": {
      "text/plain": "[({'ltable_name': 1.0,\n   'ltable_description': 1.0,\n   'ltable_price': 0.0,\n   'rtable_name': 0.0,\n   'rtable_description': 0.0,\n   'rtable_price': 0.0},\n  {'ltable_name__pink': 0,\n   'ltable_description__pink': 0,\n   'ltable_description__sony': 0,\n   'ltable_description__cyber-shot': 0,\n   'ltable_description__7.2': 0,\n   'ltable_description__megapixel': 0,\n   'ltable_description__digital': 0,\n   'ltable_description__camera': 0,\n   'ltable_description__dscw120p': 0,\n   'ltable_description__4x': 0,\n   'ltable_description__optical': 0,\n   'ltable_description__zoom': 0,\n   'ltable_description__2.5': 0,\n   \"ltable_description__'\": 0,\n   'ltable_description__tft': 0,\n   'ltable_description__lcd': 0,\n   'ltable_description__15': 0,\n   'ltable_description__mb': 0,\n   'ltable_description__internal': 0,\n   'ltable_description__memory': 0,\n   'ltable_description__face': 0,\n   'ltable_description__detection': 0,\n   'ltable_description__super': 0,\n   'ltable_description__steadyshot': 0,\n   'ltable_description__image': 0,\n   'ltable_description__stabilization': 0,\n   'ltable_description__smile': 0,\n   'ltable_description__shutter': 0,\n   'ltable_description__mode': 0,\n   'ltable_description__smart': 0,\n   'ltable_description__finish': 0,\n   'ltable_name__sony': 0,\n   'ltable_name__cyber-shot': 0,\n   'ltable_name__7.2': 0,\n   'ltable_name__megapixel': 0,\n   'ltable_name__digital': 0,\n   'ltable_name__camera': 0,\n   'ltable_name__dscw120p': 0,\n   'ltable_price__nan': 0}),\n ({'ltable_name': 1.0,\n   'ltable_description': 0.5,\n   'ltable_price': 0.0,\n   'rtable_name': 0.0,\n   'rtable_description': 0.0,\n   'rtable_price': 0.0},\n  {'ltable_description__lg': 0,\n   'ltable_description__2.0': 0,\n   'ltable_description__cu': 0,\n   'ltable_description__.': 0,\n   'ltable_description__ft.': 0,\n   'ltable_description__over-the-range': 0,\n   'ltable_description__white': 0,\n   'ltable_description__microwave': 0,\n   'ltable_description__oven': 0,\n   'ltable_description__lmvm2085wh': 0,\n   'ltable_description__warming': 0,\n   'ltable_description__lamp': 0,\n   'ltable_description__glide': 0,\n   'ltable_description__&': 0,\n   'ltable_description__spin': 0,\n   'ltable_description__sliding': 0,\n   'ltable_description__tray': 0,\n   'ltable_description__with': 0,\n   'ltable_description__turntable': 0,\n   'ltable_description__sensor': 0,\n   'ltable_description__cook': 0,\n   'ltable_description__feature': 0,\n   'ltable_description__300': 0,\n   'ltable_description__cfm': 0,\n   'ltable_description__exhaust': 0,\n   'ltable_description__system': 0,\n   'ltable_description__horizontal': 0,\n   'ltable_description__keypad': 0,\n   'ltable_description__elegant': 0,\n   'ltable_description__hidden': 0,\n   'ltable_description__vent': 0,\n   'ltable_description__wideview': 0,\n   'ltable_description__window': 0,\n   'ltable_description__halogen': 0,\n   'ltable_description__cooktop': 0,\n   'ltable_description__lighting': 0,\n   'ltable_description__finish': 0,\n   'ltable_name__lg': 0,\n   'ltable_name__2.0': 0,\n   'ltable_name__cu': 0,\n   'ltable_name__.': 0,\n   'ltable_name__ft.': 0,\n   'ltable_name__over-the-range': 0,\n   'ltable_name__white': 0,\n   'ltable_name__microwave': 0,\n   'ltable_name__oven': 0,\n   'ltable_name__lmvm2085wh': 0}),\n ({'ltable_name': 0.5555555555555556,\n   'ltable_description': 0.5555555555555556,\n   'ltable_price': 0.0,\n   'rtable_name': 0.4444444444444444,\n   'rtable_description': 0.4444444444444444,\n   'rtable_price': 0.0},\n  {'ltable_description__panasonic': 0,\n   'ltable_description__black': 0,\n   'ltable_description__8.5': 0,\n   \"ltable_description__'\": 0,\n   'ltable_description__portable': 0,\n   'ltable_description__dvd': 0,\n   'ltable_description__player': 0,\n   'ltable_description__dvdls83': 0,\n   'ltable_description__free': 0,\n   'ltable_description__style': 0,\n   'ltable_description__wide': 0,\n   'ltable_description__screen': 0,\n   'ltable_description__lcd': 0,\n   'ltable_description__display': 0,\n   'ltable_description__6': 0,\n   'ltable_description__hour': 0,\n   'ltable_description__battery': 0,\n   'ltable_description__multi': 0,\n   'ltable_description__format': 0,\n   'ltable_description__playback': 0,\n   'ltable_description__dual': 0,\n   'ltable_description__headphone': 0,\n   'ltable_description__jacks': 0,\n   'ltable_description__divx': 0,\n   'ltable_description__car': 0,\n   'ltable_description__dc': 0,\n   'ltable_description__adapter': 0,\n   'ltable_description__included': 0,\n   'ltable_description__finish': 0,\n   'ltable_name__panasonic': 0,\n   'ltable_name__black': 0,\n   'ltable_name__8.5': 0,\n   \"ltable_name__'\": 0,\n   'ltable_name__portable': 0,\n   'ltable_name__dvd': 0,\n   'ltable_name__player': 0,\n   'ltable_name__dvdls83': 0,\n   'ltable_price__nan': 0,\n   'rtable_description__toshiba': 0,\n   'rtable_description__sd-p71s': 0,\n   'rtable_description__7': 0,\n   \"rtable_description__'\": 0,\n   'rtable_description__portable': 0,\n   'rtable_description__dvd': 0,\n   'rtable_description__player': 0,\n   'rtable_price__119.36': 0,\n   'rtable_name__toshiba': 0,\n   'rtable_name__sd-p71s': 0,\n   'rtable_name__portable': 0,\n   'rtable_name__dvd': 0,\n   'rtable_name__player': 0}),\n ({'ltable_name': 0.44897959183673475,\n   'ltable_description': 0.5306122448979592,\n   'ltable_price': 0.0,\n   'rtable_name': 0.14285714285714285,\n   'rtable_description': 0.2857142857142857,\n   'rtable_price': 0.0},\n  {'rtable_name__sony': 0.0,\n   'rtable_name__bravia': 0.0,\n   'rtable_name__theater': 0.0,\n   'rtable_name__system': 0.0,\n   'rtable_description__speakers': 0.010416666666666664,\n   'rtable_description__digital': 0.018395390070921988,\n   'rtable_description__dvd': 0.031249999999999997,\n   'rtable_description__player': 0.02171985815602837,\n   'rtable_description__,': 0.021941489361702135,\n   'rtable_description__5.1': 0.005319148936170213,\n   'rtable_description__1': 0.005984042553191489,\n   'rtable_description__disc': 0.005540780141843971,\n   'rtable_description__(': 0.0031028368794326243,\n   'rtable_description__s': 0.0033244680851063826,\n   'rtable_description__)': 0.002881205673758865,\n   'rtable_description__progressive': 0.0033244680851063834,\n   'rtable_description__scan': 0.003324468085106383,\n   'rtable_description__450w': 0.0026595744680851068,\n   'rtable_description__rms': 0.002881205673758865,\n   'rtable_description__dolby': 0.00975177304964539,\n   'rtable_description__ex': 0.00398936170212766,\n   'rtable_description__pro': 0.006427304964539007,\n   'rtable_description__logic': 0.0050975177304964535,\n   'rtable_description__ii': 0.0011081560283687942,\n   'ltable_name__sony': 0.004210992907801419,\n   'ltable_description__sony': 0.001773049645390071,\n   'ltable_name__bravia': 0.004432624113475178,\n   'ltable_description__bravia': 0.0033244680851063826,\n   'ltable_name__theater': 0.0042109929078014184,\n   'ltable_description__theater': 0.0031028368794326243,\n   'ltable_name__black': 0.0042109929078014184,\n   'ltable_description__black': 0.0050975177304964535,\n   'ltable_name__micro': 0.006427304964539007,\n   'ltable_description__micro': 0.0070921985815602835,\n   'ltable_name__system': 0.004432624113475177,\n   'ltable_description__system': 0.003989361702127659,\n   'ltable_name__davis50b': 0.0017730496453900709,\n   'ltable_description__davis50b': 0.007978723404255319,\n   'ltable_description__5.1-channel': 0.006648936170212767,\n   'ltable_description__surround': 0.0031028368794326243,\n   'ltable_description__sound': 0.0024379432624113476,\n   'ltable_description__golf': 0.0022163120567375884,\n   'ltable_description__ball-sized': 0.0031028368794326243,\n   'ltable_description__speakers': 0.0017730496453900709,\n   'ltable_description__compact': 0.0004432624113475177,\n   'ltable_description__design': 0.0013297872340425532,\n   'ltable_description__s-air': 0.003989361702127659,\n   'ltable_description__digital': 0.004654255319148936,\n   'ltable_description__wireless': 0.0008865248226950354,\n   'ltable_description__capability': 0.0022163120567375884,\n   'ltable_description__hdmi': 0.0050975177304964535,\n   'ltable_description__connectivity': 0.0015514184397163121,\n   'ltable_description__sync': 0.0011081560283687942,\n   'ltable_description__cinema': 0.0015514184397163121,\n   'ltable_description__dcs': 0.004432624113475178,\n   'ltable_description__technology': 0.001329787234042553,\n   'ltable_description__(': 0.002881205673758865,\n   'ltable_description__)': 0.0015514184397163121,\n   'ltable_description__s-master': 0.0015514184397163121,\n   'ltable_description__amplifier': 0.0011081560283687942,\n   'ltable_description__portable': 0.0006648936170212766,\n   'ltable_description__audio': 0.0006648936170212766,\n   'ltable_description__enhancer': 0.0006648936170212766,\n   'ltable_description__finish': 0.00022163120567375886}),\n ({'ltable_name': 0.0,\n   'ltable_description': 0.0,\n   'ltable_price': 0.0,\n   'rtable_name': 0.0,\n   'rtable_description': 0.0,\n   'rtable_price': 0.0},\n  {'ltable_name__panasonic': 0,\n   'ltable_description__panasonic': 0,\n   'ltable_name__dect': 0,\n   'ltable_description__dect': 0,\n   'ltable_name__expandable': 0,\n   'ltable_description__expandable': 0,\n   'ltable_name__digital': 0,\n   'ltable_description__digital': 0,\n   'ltable_name__cordless': 0,\n   'ltable_description__cordless': 0,\n   'ltable_name__phone': 0,\n   'ltable_description__phone': 0,\n   'ltable_name__answering': 0,\n   'ltable_description__answering': 0,\n   'ltable_name__system': 0,\n   'ltable_description__system': 0,\n   'ltable_name__kxtg9344t': 0,\n   'ltable_description__kxtg9344t': 0,\n   'ltable_description__handsets': 0,\n   'ltable_description__capability': 0,\n   'ltable_description__ringer': 0,\n   'ltable_description__id': 0,\n   'ltable_description__call': 0,\n   'ltable_description__waiting': 0,\n   'ltable_description__caller': 0,\n   'ltable_description__voicemail': 0,\n   'ltable_description__hold': 0,\n   'ltable_description__voice': 0,\n   'ltable_description__menu': 0,\n   'ltable_description__marker': 0,\n   'ltable_description__message': 0,\n   'ltable_description__mute': 0,\n   'ltable_description__6.0': 0,\n   'ltable_description__with': 0,\n   'ltable_description__all-digital': 0,\n   'ltable_description__4': 0,\n   'ltable_description__up': 0,\n   'ltable_description__to': 0,\n   'ltable_description__6': 0,\n   'ltable_description__multi-handset': 0,\n   'ltable_description__machine': 0,\n   'ltable_description__clock': 0,\n   'ltable_description__alarm': 0,\n   'ltable_description__led': 0,\n   'ltable_description__lighting': 0,\n   'ltable_description__night': 0,\n   'ltable_description__mode': 0,\n   'ltable_description__block': 0,\n   'ltable_description__speakerphone': 0,\n   'ltable_description__11': 0,\n   'ltable_description__days': 0,\n   'ltable_description__standby': 0,\n   'ltable_description__5': 0,\n   'ltable_description__hours': 0,\n   'ltable_description__talk': 0,\n   'ltable_description__time': 0,\n   'ltable_description__black': 0,\n   'ltable_description__metallic': 0,\n   'ltable_description__finish': 0,\n   'ltable_name__6.0': 0,\n   'ltable_name__with': 0,\n   'ltable_name__all-digital': 0,\n   'rtable_name__panasonic': 0,\n   'rtable_name__cordless': 0,\n   'rtable_name__phone': 0,\n   'rtable_description__phone': 0}),\n ({'ltable_name': 1.0,\n   'ltable_description': 1.0,\n   'ltable_price': 0.0,\n   'rtable_name': 0.0,\n   'rtable_description': 0.0,\n   'rtable_price': 0.0},\n  {'ltable_name__canon': 0,\n   'ltable_description__canon': 0,\n   'ltable_name__black': 0,\n   'ltable_description__black': 0,\n   'ltable_name__rechargeable': 0,\n   'ltable_description__rechargeable': 0,\n   'ltable_name__battery': 0,\n   'ltable_description__battery': 0,\n   'ltable_name__9612a001': 0,\n   'ltable_description__9612a001': 0,\n   'ltable_description__compatible': 0,\n   'ltable_description__digital': 0,\n   'ltable_description__series': 0,\n   'ltable_description__cameras': 0,\n   'ltable_description__also': 0,\n   'ltable_description__elura': 0,\n   'ltable_description__optura': 0,\n   'ltable_description__zr': 0,\n   'ltable_description__camcorders': 0,\n   'ltable_description__finish': 0,\n   'ltable_description__lithium-ion': 0,\n   'ltable_description__technology': 0,\n   'ltable_description__with': 0,\n   'ltable_description__rebel': 0,\n   'ltable_description__xt': 0,\n   'ltable_description__and': 0,\n   'ltable_description__powershot': 0,\n   'ltable_description__s': 0,\n   'ltable_description__,': 0}),\n ({'ltable_name': 0.7058823529411765,\n   'ltable_description': 0.9411764705882353,\n   'ltable_price': 0.0,\n   'rtable_name': 0.0,\n   'rtable_description': 0.0,\n   'rtable_price': 0.0},\n  {'rtable_name__canon': 0,\n   'rtable_description__canon': 0,\n   'rtable_name__digital': 0,\n   'rtable_description__zoom': 0,\n   'rtable_description__image': 0,\n   'rtable_description__dc310': 0,\n   'rtable_description__dvd': 0,\n   'rtable_description__camcorder': 0,\n   'rtable_description__w': 0,\n   'rtable_description__/': 0,\n   'rtable_description__41x': 0,\n   'rtable_description__advanced': 0,\n   'rtable_description__,': 0,\n   'rtable_description__built-in': 0,\n   'rtable_description__lens': 0,\n   'rtable_description__cover': 0,\n   'rtable_description__stabilization': 0,\n   'rtable_description__&': 0,\n   'rtable_description__exclusive': 0,\n   'rtable_description__-': 0,\n   'rtable_description__digic': 0,\n   'rtable_description__dv': 0,\n   'rtable_description__ii': 0,\n   'rtable_price__289.95': 0,\n   'ltable_name__canon': 0,\n   'ltable_description__canon': 0,\n   'ltable_name__digital': 0,\n   'ltable_description__digital': 0,\n   'ltable_name__camera': 0,\n   'ltable_description__camera': 0,\n   'ltable_name__silver': 0,\n   'ltable_description__silver': 0,\n   'ltable_name__sd880is': 0,\n   'ltable_description__sd880is': 0,\n   'ltable_description__megapixel': 0,\n   'ltable_description__optical': 0,\n   'ltable_description__zoom': 0,\n   'ltable_description__image': 0,\n   'ltable_description__stabilizer': 0,\n   'ltable_description__lcd': 0,\n   'ltable_description__processor': 0,\n   'ltable_description__face': 0,\n   'ltable_description__detection': 0,\n   'ltable_description__correction': 0,\n   'ltable_description__powershot': 0,\n   'ltable_description__10': 0,\n   'ltable_description__4x': 0,\n   'ltable_description__3.0': 0,\n   \"ltable_description__'\": 0,\n   'ltable_description__purecolor': 0,\n   'ltable_description__ii': 0,\n   'ltable_description__digic': 0,\n   'ltable_description__4': 0,\n   'ltable_description__self-timer': 0,\n   'ltable_description__red-eye': 0,\n   'ltable_description__19': 0,\n   'ltable_description__shooting': 0,\n   'ltable_description__modes': 0,\n   'ltable_description__print/share': 0,\n   'ltable_description__button': 0,\n   'ltable_description__finish': 0,\n   'ltable_name__powershot': 0})]"
     },
     "execution_count": 98,
     "metadata": {},
     "output_type": "execute_result"
    }
   ],
   "source": [
    "attributes_file = \"/Users/tteofili/dev/ellmer/experiments/azure_openai/gpt-3.5-turbo/attribute/abt_buy/20240604/22_25/uncerta(freq)_sample_results.json\"\n",
    "tokens_file = \"/Users/tteofili/dev/ellmer/experiments/azure_openai/gpt-3.5-turbo/token/abt_buy/20240607/09_03/uncerta(freq)_sample_results.json\"\n",
    "\n",
    "attributes_data = file_to_saliencies(attributes_file)\n",
    "token_data = file_to_saliencies(tokens_file)\n",
    "\n",
    "saliency_pairs = []\n",
    "for a, t in zip(attributes_data, token_data):\n",
    "    if a[0] == t[0] and len(a[1]) > 0 and len(t[1]) > 0:\n",
    "        saliency_pairs.append((a[1], t[1]))\n",
    "        \n",
    "saliency_pairs"
   ],
   "metadata": {
    "collapsed": false,
    "ExecuteTime": {
     "end_time": "2024-06-10T20:43:37.683464Z",
     "start_time": "2024-06-10T20:43:37.668759Z"
    }
   },
   "id": "62f3c04937ec8ab5",
   "execution_count": 98
  },
  {
   "cell_type": "code",
   "outputs": [
    {
     "name": "stdout",
     "output_type": "stream",
     "text": [
      "consistency over 7 pairs\n",
      "@2 - kt:0.2857142857142857, f1:0.5238095238095238\n",
      "@3 - kt:0.23328473740792172, f1:0.3095238095238094\n",
      "@4 - kt:-0.09199293583705415, f1:0.19166666666666665\n",
      "@5 - kt:-0.11894650650159432, f1:0.14952380952380953\n",
      "[(0.2857142857142857, 0.5238095238095238), (0.23328473740792172, 0.3095238095238094), (-0.09199293583705415, 0.19166666666666665), (-0.11894650650159432, 0.14952380952380953)]\n"
     ]
    }
   ],
   "source": [
    "metrics = sal_consistency(saliency_pairs, max_k=6)\n",
    "print(metrics)"
   ],
   "metadata": {
    "collapsed": false,
    "ExecuteTime": {
     "end_time": "2024-06-10T20:46:40.901971Z",
     "start_time": "2024-06-10T20:46:40.869281Z"
    }
   },
   "id": "6c8363e1de574622",
   "execution_count": 113
  }
 ],
 "metadata": {
  "kernelspec": {
   "name": "python3",
   "language": "python",
   "display_name": "Python 3 (ipykernel)"
  },
  "language_info": {
   "name": ""
  }
 },
 "nbformat": 4,
 "nbformat_minor": 5
}
